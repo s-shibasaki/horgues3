{
 "cells": [
  {
   "cell_type": "code",
   "execution_count": null,
   "id": "0",
   "metadata": {},
   "outputs": [],
   "source": [
    "from horgues3.database import create_database_engine\n",
    "from sqlalchemy import create_engine, text\n",
    "import pandas as pd\n",
    "import numpy as np"
   ]
  },
  {
   "cell_type": "code",
   "execution_count": null,
   "id": "1",
   "metadata": {},
   "outputs": [],
   "source": [
    "engine = create_database_engine('pckeiba')"
   ]
  },
  {
   "cell_type": "code",
   "execution_count": null,
   "id": "2",
   "metadata": {},
   "outputs": [],
   "source": [
    "# 単勝/複勝\n",
    "\n",
    "with engine.connect() as conn:\n",
    "    conn.execute(\n",
    "        text(\"\"\"delete from apd_tohyo_settei\"\"\")\n",
    "    )\n",
    "    conn.commit()\n",
    "    \n",
    "shikibetsu_kubun = 1\n",
    "shisu_no_1 = 1\n",
    "\n",
    "with engine.connect() as conn:\n",
    "    tohyo_no = 0\n",
    "\n",
    "    for shisu_min_1 in [0.1, 0.2, 0.3, 0.4, 0.5]:\n",
    "        for juni_max_1 in [1, 18]:\n",
    "            for odds_min in (1.1 * 10 ** np.linspace(0, 1, 10)).tolist():\n",
    "\n",
    "                tohyo_no += 1\n",
    "                tohyo_name = f\"{shisu_min_1}_{juni_max_1}_{odds_min}\"\n",
    "                \n",
    "                conn.execute(\n",
    "                    text(\"\"\"INSERT INTO apd_tohyo_settei (\n",
    "                                tohyo_no, tohyo_name, shikibetsu_kubun, hoshiki_kubun,\n",
    "                                shisu_no_1, shisu_min_1, shisu_max_1, juni_min_1, juni_max_1,\n",
    "                                odds_min, odds_max, ninkijun_min, ninkijun_max, \n",
    "                                shikin_haibun_kubun, kingaku_kubun, kingaku, check_box1\n",
    "                            ) VALUES (\n",
    "                                :tohyo_no, :tohyo_name, :shikibetsu_kubun, 0,\n",
    "                                :shisu_no_1, :shisu_min_1, 999999.99, 1, :juni_max_1,\n",
    "                                :odds_min, 999999.9, 1, 4896,\n",
    "                                1, 1, 1, 1\n",
    "                            )\"\"\"),\n",
    "                    {'tohyo_no': tohyo_no, 'tohyo_name': tohyo_name, 'shikibetsu_kubun': shikibetsu_kubun,\n",
    "                     'shisu_no_1': shisu_no_1, 'shisu_min_1': shisu_min_1, 'juni_max_1': juni_max_1,\n",
    "                     'odds_min': odds_min} \n",
    "                )\n",
    "    \n",
    "    conn.commit()"
   ]
  },
  {
   "cell_type": "code",
   "execution_count": null,
   "id": "3",
   "metadata": {},
   "outputs": [],
   "source": [
    "# ボックス\n",
    "\n",
    "with engine.connect() as conn:\n",
    "    conn.execute(\n",
    "        text(\"\"\"delete from apd_tohyo_settei\"\"\")\n",
    "    )\n",
    "    conn.commit()\n",
    "    \n",
    "shikibetsu_kubun = 4\n",
    "shisu_no_1 = 2\n",
    "\n",
    "with engine.connect() as conn:\n",
    "    tohyo_no = 0\n",
    "\n",
    "    for shisu_min_1 in [0.1, 0.2, 0.3, 0.4, 0.5]:\n",
    "        for juni_max_1 in [2, 18]:\n",
    "            for odds_min in (2 * 10 ** np.linspace(0, 1, 10)).tolist():\n",
    "\n",
    "                tohyo_no += 1\n",
    "                tohyo_name = f\"{shisu_min_1}_{juni_max_1}_{odds_min}\"\n",
    "                \n",
    "                conn.execute(\n",
    "                    text(\"\"\"INSERT INTO apd_tohyo_settei (\n",
    "                                tohyo_no, tohyo_name, shikibetsu_kubun, hoshiki_kubun,\n",
    "                                shisu_no_1, shisu_min_1, shisu_max_1, juni_min_1, juni_max_1,\n",
    "                                odds_min, odds_max, ninkijun_min, ninkijun_max, \n",
    "                                shikin_haibun_kubun, kingaku_kubun, kingaku, check_box1\n",
    "                            ) VALUES (\n",
    "                                :tohyo_no, :tohyo_name, :shikibetsu_kubun, 1,\n",
    "                                :shisu_no_1, :shisu_min_1, 999999.99, 1, :juni_max_1,\n",
    "                                :odds_min, 999999.9, 1, 4896,\n",
    "                                1, 1, 1, 1\n",
    "                            )\"\"\"),\n",
    "                    {'tohyo_no': tohyo_no, 'tohyo_name': tohyo_name, 'shikibetsu_kubun': shikibetsu_kubun,\n",
    "                     'shisu_no_1': shisu_no_1, 'shisu_min_1': shisu_min_1, 'juni_max_1': juni_max_1,\n",
    "                     'odds_min': odds_min} \n",
    "                )\n",
    "    \n",
    "    conn.commit()"
   ]
  },
  {
   "cell_type": "code",
   "execution_count": null,
   "id": "4",
   "metadata": {},
   "outputs": [],
   "source": [
    "# フォーメーション2頭\n",
    "\n",
    "with engine.connect() as conn:\n",
    "    conn.execute(\n",
    "        text(\"\"\"delete from apd_tohyo_settei\"\"\")\n",
    "    )\n",
    "    conn.commit()\n",
    "    \n",
    "shikibetsu_kubun = 5\n",
    "shisu_no_1 = 3\n",
    "shisu_no_2 = 3\n",
    "\n",
    "with engine.connect() as conn:\n",
    "    tohyo_no = 0\n",
    "\n",
    "    for shisu_min_1 in [0.5, 0.4, 0.3, 0.2]:\n",
    "        for shisu_min_2 in [0.4, 0.3, 0.2, 0.1]:\n",
    "            if shisu_min_1 < shisu_min_2:\n",
    "                continue\n",
    "            for juni_max_1 in [1, 2, 3, 18]:\n",
    "                for juni_max_2 in [2, 3, 18]:\n",
    "                    if juni_max_1 > juni_max_2:\n",
    "                        continue\n",
    "                    for odds_min in (1.5 * 20 ** np.linspace(0, 1, 5)).tolist():\n",
    "\n",
    "                        tohyo_no += 1\n",
    "                        tohyo_name = f\"{shisu_min_1}_{shisu_min_2}_{juni_max_1}_{juni_max_2}_{odds_min}\"\n",
    "                        \n",
    "                        conn.execute(\n",
    "                            text(\"\"\"INSERT INTO apd_tohyo_settei (\n",
    "                                        tohyo_no, tohyo_name, shikibetsu_kubun, hoshiki_kubun,\n",
    "                                        shisu_no_1, shisu_min_1, shisu_max_1, juni_min_1, juni_max_1,\n",
    "                                        shisu_no_2, shisu_min_2, shisu_max_2, juni_min_2, juni_max_2,\n",
    "                                        shisu_gokei_min, shisu_gokei_max,\n",
    "                                        odds_min, odds_max, ninkijun_min, ninkijun_max, \n",
    "                                        shikin_haibun_kubun, kingaku_kubun, kingaku, check_box1\n",
    "                                    ) VALUES (\n",
    "                                        :tohyo_no, :tohyo_name, :shikibetsu_kubun, 2,\n",
    "                                        :shisu_no_1, :shisu_min_1, 999999.99, 1, :juni_max_1,\n",
    "                                        :shisu_no_2, :shisu_min_2, 999999.99, 1, :juni_max_2,\n",
    "                                        0, 9999999.99,\n",
    "                                        :odds_min, 999999.9, 1, 4896,\n",
    "                                        1, 1, 1, 1\n",
    "                                    )\"\"\"),\n",
    "                            {'tohyo_no': tohyo_no, 'tohyo_name': tohyo_name, 'shikibetsu_kubun': shikibetsu_kubun,\n",
    "                             'shisu_no_1': shisu_no_1, 'shisu_min_1': shisu_min_1, 'juni_max_1': juni_max_1,\n",
    "                             'shisu_no_2': shisu_no_2, 'shisu_min_2': shisu_min_2, 'juni_max_2': juni_max_2,\n",
    "                             'odds_min': odds_min} \n",
    "                        )\n",
    "    \n",
    "    conn.commit()"
   ]
  },
  {
   "cell_type": "code",
   "execution_count": null,
   "id": "5",
   "metadata": {},
   "outputs": [],
   "source": [
    "# フォーメーション3頭"
   ]
  },
  {
   "cell_type": "code",
   "execution_count": null,
   "id": "6",
   "metadata": {},
   "outputs": [],
   "source": [
    "# 結果の削除\n",
    "\n",
    "with engine.connect() as conn:\n",
    "    conn.execute(\n",
    "        text(\"\"\"delete from apd_kaime_sim_1\"\"\")\n",
    "    )\n",
    "    conn.execute(\n",
    "        text(\"\"\"delete from apd_kaime_sim_2\"\"\")\n",
    "    )\n",
    "    conn.commit()"
   ]
  },
  {
   "cell_type": "code",
   "execution_count": null,
   "id": "7",
   "metadata": {},
   "outputs": [],
   "source": []
  },
  {
   "cell_type": "code",
   "execution_count": null,
   "id": "8",
   "metadata": {},
   "outputs": [],
   "source": []
  },
  {
   "cell_type": "code",
   "execution_count": null,
   "id": "9",
   "metadata": {},
   "outputs": [],
   "source": []
  },
  {
   "cell_type": "code",
   "execution_count": null,
   "id": "10",
   "metadata": {},
   "outputs": [],
   "source": []
  },
  {
   "cell_type": "code",
   "execution_count": null,
   "id": "11",
   "metadata": {},
   "outputs": [],
   "source": []
  },
  {
   "cell_type": "code",
   "execution_count": null,
   "id": "12",
   "metadata": {},
   "outputs": [],
   "source": []
  },
  {
   "cell_type": "code",
   "execution_count": null,
   "id": "13",
   "metadata": {},
   "outputs": [],
   "source": []
  },
  {
   "cell_type": "code",
   "execution_count": null,
   "id": "14",
   "metadata": {},
   "outputs": [],
   "source": []
  },
  {
   "cell_type": "code",
   "execution_count": null,
   "id": "15",
   "metadata": {},
   "outputs": [],
   "source": []
  },
  {
   "cell_type": "code",
   "execution_count": null,
   "id": "16",
   "metadata": {},
   "outputs": [],
   "source": []
  },
  {
   "cell_type": "code",
   "execution_count": null,
   "id": "17",
   "metadata": {},
   "outputs": [],
   "source": []
  },
  {
   "cell_type": "code",
   "execution_count": null,
   "id": "18",
   "metadata": {},
   "outputs": [],
   "source": [
    "# 結果\n",
    "\n",
    "df = pd.read_sql(\n",
    "    text(\"\"\"\n",
    "            select \n",
    "                ts.tohyo_no 投票No,\n",
    "                ts.tohyo_name 投票名,\n",
    "                sum(s2.tohyo_maisu) 投票枚数,\n",
    "                sum(s2.tekichu_flag::numeric * s2.tohyo_maisu) 的中枚数,\n",
    "                avg(tekichu_flag::numeric) 的中率,\n",
    "                sum(s2.tohyo_maisu * 100) 投票金額,\n",
    "                sum(s2.haraimodoshi) 払戻金額,\n",
    "                sum(s2.haraimodoshi) / sum(s2.tohyo_maisu * 100) 回収率,              \n",
    "                sum(s2.haraimodoshi) - sum(s2.tohyo_maisu * 100) 損益\n",
    "            from apd_kaime_sim_2 s2\n",
    "            inner join apd_tohyo_settei ts\n",
    "                on s2.tohyo_no = ts.tohyo_no\n",
    "            group by ts.tohyo_no, ts.tohyo_name\n",
    "            order by 損益 desc, 的中枚数 desc\n",
    "    \"\"\"),\n",
    "    engine, params={}\n",
    ")\n",
    "\n",
    "df.style"
   ]
  },
  {
   "cell_type": "code",
   "execution_count": null,
   "id": "19",
   "metadata": {},
   "outputs": [],
   "source": []
  },
  {
   "cell_type": "code",
   "execution_count": null,
   "id": "20",
   "metadata": {},
   "outputs": [],
   "source": []
  },
  {
   "cell_type": "code",
   "execution_count": null,
   "id": "21",
   "metadata": {},
   "outputs": [],
   "source": []
  },
  {
   "cell_type": "code",
   "execution_count": null,
   "id": "22",
   "metadata": {},
   "outputs": [],
   "source": []
  },
  {
   "cell_type": "code",
   "execution_count": null,
   "id": "23",
   "metadata": {},
   "outputs": [],
   "source": []
  },
  {
   "cell_type": "code",
   "execution_count": null,
   "id": "24",
   "metadata": {},
   "outputs": [],
   "source": []
  },
  {
   "cell_type": "code",
   "execution_count": null,
   "id": "25",
   "metadata": {},
   "outputs": [],
   "source": []
  },
  {
   "cell_type": "code",
   "execution_count": null,
   "id": "26",
   "metadata": {},
   "outputs": [],
   "source": []
  },
  {
   "cell_type": "code",
   "execution_count": null,
   "id": "27",
   "metadata": {},
   "outputs": [],
   "source": []
  },
  {
   "cell_type": "code",
   "execution_count": null,
   "id": "28",
   "metadata": {},
   "outputs": [],
   "source": []
  },
  {
   "cell_type": "code",
   "execution_count": null,
   "id": "29",
   "metadata": {},
   "outputs": [],
   "source": []
  },
  {
   "cell_type": "code",
   "execution_count": null,
   "id": "30",
   "metadata": {},
   "outputs": [],
   "source": []
  },
  {
   "cell_type": "code",
   "execution_count": null,
   "id": "31",
   "metadata": {},
   "outputs": [],
   "source": []
  },
  {
   "cell_type": "code",
   "execution_count": null,
   "id": "32",
   "metadata": {},
   "outputs": [],
   "source": []
  },
  {
   "cell_type": "code",
   "execution_count": null,
   "id": "33",
   "metadata": {},
   "outputs": [],
   "source": []
  },
  {
   "cell_type": "code",
   "execution_count": null,
   "id": "34",
   "metadata": {},
   "outputs": [],
   "source": []
  },
  {
   "cell_type": "code",
   "execution_count": null,
   "id": "35",
   "metadata": {},
   "outputs": [],
   "source": []
  },
  {
   "cell_type": "code",
   "execution_count": null,
   "id": "36",
   "metadata": {},
   "outputs": [],
   "source": []
  },
  {
   "cell_type": "code",
   "execution_count": null,
   "id": "37",
   "metadata": {},
   "outputs": [],
   "source": []
  },
  {
   "cell_type": "code",
   "execution_count": null,
   "id": "38",
   "metadata": {},
   "outputs": [],
   "source": []
  },
  {
   "cell_type": "code",
   "execution_count": null,
   "id": "39",
   "metadata": {},
   "outputs": [],
   "source": []
  },
  {
   "cell_type": "code",
   "execution_count": null,
   "id": "40",
   "metadata": {},
   "outputs": [],
   "source": []
  },
  {
   "cell_type": "code",
   "execution_count": null,
   "id": "41",
   "metadata": {},
   "outputs": [],
   "source": []
  },
  {
   "cell_type": "code",
   "execution_count": null,
   "id": "42",
   "metadata": {},
   "outputs": [],
   "source": []
  },
  {
   "cell_type": "code",
   "execution_count": null,
   "id": "43",
   "metadata": {},
   "outputs": [],
   "source": []
  },
  {
   "cell_type": "code",
   "execution_count": null,
   "id": "44",
   "metadata": {},
   "outputs": [],
   "source": []
  },
  {
   "cell_type": "code",
   "execution_count": null,
   "id": "45",
   "metadata": {},
   "outputs": [],
   "source": []
  },
  {
   "cell_type": "code",
   "execution_count": null,
   "id": "46",
   "metadata": {},
   "outputs": [],
   "source": []
  },
  {
   "cell_type": "code",
   "execution_count": null,
   "id": "47",
   "metadata": {},
   "outputs": [],
   "source": []
  },
  {
   "cell_type": "code",
   "execution_count": null,
   "id": "48",
   "metadata": {},
   "outputs": [],
   "source": []
  },
  {
   "cell_type": "code",
   "execution_count": null,
   "id": "49",
   "metadata": {},
   "outputs": [],
   "source": []
  },
  {
   "cell_type": "code",
   "execution_count": null,
   "id": "50",
   "metadata": {},
   "outputs": [],
   "source": []
  },
  {
   "cell_type": "code",
   "execution_count": null,
   "id": "51",
   "metadata": {},
   "outputs": [],
   "source": []
  },
  {
   "cell_type": "code",
   "execution_count": null,
   "id": "52",
   "metadata": {},
   "outputs": [],
   "source": []
  },
  {
   "cell_type": "code",
   "execution_count": null,
   "id": "53",
   "metadata": {},
   "outputs": [],
   "source": []
  },
  {
   "cell_type": "code",
   "execution_count": null,
   "id": "54",
   "metadata": {},
   "outputs": [],
   "source": []
  },
  {
   "cell_type": "code",
   "execution_count": null,
   "id": "55",
   "metadata": {},
   "outputs": [],
   "source": []
  },
  {
   "cell_type": "code",
   "execution_count": null,
   "id": "56",
   "metadata": {},
   "outputs": [],
   "source": []
  },
  {
   "cell_type": "code",
   "execution_count": null,
   "id": "57",
   "metadata": {},
   "outputs": [],
   "source": []
  },
  {
   "cell_type": "code",
   "execution_count": null,
   "id": "58",
   "metadata": {},
   "outputs": [],
   "source": []
  }
 ],
 "metadata": {
  "kernelspec": {
   "display_name": "horgues3",
   "language": "python",
   "name": "horgues3"
  },
  "language_info": {
   "codemirror_mode": {
    "name": "ipython",
    "version": 3
   },
   "file_extension": ".py",
   "mimetype": "text/x-python",
   "name": "python",
   "nbconvert_exporter": "python",
   "pygments_lexer": "ipython3",
   "version": "3.11.13"
  }
 },
 "nbformat": 4,
 "nbformat_minor": 5
}
