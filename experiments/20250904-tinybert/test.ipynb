{
 "cells": [
  {
   "cell_type": "code",
   "execution_count": null,
   "id": "0",
   "metadata": {},
   "outputs": [],
   "source": [
    "# 必要なライブラリをインポート\n",
    "import torch\n",
    "import torch.nn as nn\n",
    "import torch.optim as optim\n",
    "from torch.utils.data import DataLoader\n",
    "import pandas as pd\n",
    "import numpy as np\n",
    "import logging\n",
    "from tqdm import tqdm\n",
    "import matplotlib.pyplot as plt\n",
    "from pathlib import Path\n",
    "import warnings\n",
    "warnings.filterwarnings('ignore')\n",
    "import seaborn as sns\n",
    "from sqlalchemy import create_engine, text\n",
    "import torch.nn.functional as F\n",
    "\n",
    "# 自作モジュールをインポート\n",
    "from _dataset import HorguesDataset\n",
    "from _models import HorguesModel\n",
    "from horgues3.losses import HorguesLoss\n",
    "from horgues3.odds import get_odds_dataframes\n",
    "from horgues3.haraimodoshi import get_haraimodoshi_dataframes\n",
    "from horgues3.database import create_database_engine"
   ]
  },
  {
   "cell_type": "code",
   "execution_count": null,
   "id": "1",
   "metadata": {},
   "outputs": [],
   "source": [
    "# ログ設定\n",
    "logging.basicConfig(level=logging.INFO, format='%(asctime)s - %(levelname)s - %(message)s')\n",
    "logger = logging.getLogger(__name__)"
   ]
  },
  {
   "cell_type": "code",
   "execution_count": null,
   "id": "2",
   "metadata": {},
   "outputs": [],
   "source": [
    "# デバイス設定\n",
    "device = torch.device('cuda:0')\n",
    "logger.info(f\"使用デバイス: {device}\")"
   ]
  },
  {
   "cell_type": "code",
   "execution_count": null,
   "id": "3",
   "metadata": {},
   "outputs": [],
   "source": [
    "# 学習パラメータ設定\n",
    "BATCH_SIZE = 128"
   ]
  },
  {
   "cell_type": "code",
   "execution_count": null,
   "id": "4",
   "metadata": {},
   "outputs": [],
   "source": [
    "checkpoint = torch.load('outputs/best_model.pth', map_location='cpu')"
   ]
  },
  {
   "cell_type": "code",
   "execution_count": null,
   "id": "5",
   "metadata": {},
   "outputs": [],
   "source": [
    "# 学習期間・検証期間設定\n",
    "START_DATE = '20230101'\n",
    "END_DATE = '20231231'\n",
    "\n",
    "logger.info(f\"期間: {START_DATE} - {END_DATE}\")"
   ]
  },
  {
   "cell_type": "code",
   "execution_count": null,
   "id": "6",
   "metadata": {},
   "outputs": [],
   "source": [
    "# データセットの作成\n",
    "logger.info(\"データセットを作成中...\")\n",
    "dataset = HorguesDataset(\n",
    "    start_date=START_DATE,\n",
    "    end_date=END_DATE,\n",
    "    preprocessing_params=checkpoint['preprocessing_params'],\n",
    "    cache_dir='cache/test',\n",
    "    use_cache=True\n",
    ")\n",
    "\n",
    "logger.info(f\"データサイズ: {len(dataset)}\")"
   ]
  },
  {
   "cell_type": "code",
   "execution_count": null,
   "id": "7",
   "metadata": {},
   "outputs": [],
   "source": [
    "loader = DataLoader(\n",
    "    dataset,\n",
    "    batch_size=BATCH_SIZE,\n",
    "    shuffle=False,\n",
    "    num_workers=4,\n",
    "    pin_memory=True\n",
    ")"
   ]
  },
  {
   "cell_type": "code",
   "execution_count": null,
   "id": "8",
   "metadata": {},
   "outputs": [],
   "source": [
    "# モデル設定の取得\n",
    "model_config = checkpoint['model_config']\n",
    "logger.info(f\"数値特徴量数: {len(model_config['numerical_features'])}\")\n",
    "logger.info(f\"カテゴリ特徴量数: {len(model_config['categorical_features'])}\")\n",
    "logger.info(f\"時系列データ: {model_config['sequence_names']}\")"
   ]
  },
  {
   "cell_type": "code",
   "execution_count": null,
   "id": "9",
   "metadata": {},
   "outputs": [],
   "source": [
    "# モデルの作成\n",
    "model = HorguesModel(\n",
    "    sequence_names=model_config['sequence_names'],\n",
    "    feature_aliases=model_config['feature_aliases'],\n",
    "    numerical_features=model_config['numerical_features'],\n",
    "    categorical_features=model_config['categorical_features'],\n",
    ").to(device)"
   ]
  },
  {
   "cell_type": "code",
   "execution_count": null,
   "id": "10",
   "metadata": {},
   "outputs": [],
   "source": [
    "model.load_state_dict(checkpoint['model_state_dict'])"
   ]
  },
  {
   "cell_type": "code",
   "execution_count": null,
   "id": "11",
   "metadata": {},
   "outputs": [],
   "source": [
    "race_ids = []\n",
    "masks = []\n",
    "targets = []\n",
    "scores = []\n",
    "\n",
    "model.eval()\n",
    "with torch.no_grad():\n",
    "    pbar = tqdm(loader, desc='Predict')\n",
    "    for batch in pbar:\n",
    "        race_ids.extend(batch['race_id'])\n",
    "        masks.append(batch['mask'])\n",
    "        targets.append(batch['target'])\n",
    "\n",
    "        x_num = {k: v.to(device) for k, v in batch['x_num'].items()}\n",
    "        x_cat = {k: v.to(device) for k, v in batch['x_cat'].items()}\n",
    "        sequence_data = {}\n",
    "        for seq_name, seq_data in batch['sequence_data'].items():\n",
    "            sequence_data[seq_name] = {\n",
    "                'x_num': {k: v.to(device) for k, v in seq_data['x_num'].items()},\n",
    "                'x_cat': {k: v.to(device) for k, v in seq_data['x_cat'].items()},\n",
    "                'mask': seq_data['mask'].to(device)\n",
    "            }\n",
    "        mask = batch['mask'].to(device)\n",
    "        target = batch['target'].to(device)\n",
    "\n",
    "        scores.append(model(x_num, x_cat, sequence_data, mask).cpu())\n",
    "\n",
    "    masks = torch.cat(masks, dim=0)\n",
    "    targets = torch.cat(targets, dim=0)\n",
    "    scores = torch.cat(scores, dim=0)"
   ]
  },
  {
   "cell_type": "code",
   "execution_count": null,
   "id": "12",
   "metadata": {},
   "outputs": [],
   "source": [
    "odds = get_odds_dataframes(START_DATE, END_DATE)\n",
    "haraimodoshi = get_haraimodoshi_dataframes(START_DATE, END_DATE)"
   ]
  },
  {
   "cell_type": "code",
   "execution_count": null,
   "id": "13",
   "metadata": {},
   "outputs": [],
   "source": [
    "scores.size()"
   ]
  },
  {
   "cell_type": "code",
   "execution_count": null,
   "id": "14",
   "metadata": {},
   "outputs": [],
   "source": [
    "sns.histplot(F.sigmoid(scores[:, :, 2][masks]))\n",
    "sns.histplot(F.sigmoid(scores[:, :, 1][masks]))\n",
    "sns.histplot(F.sigmoid(scores[:, :, 0][masks]))"
   ]
  },
  {
   "cell_type": "code",
   "execution_count": null,
   "id": "15",
   "metadata": {},
   "outputs": [],
   "source": [
    "def convert_to_series(tensor, name):\n",
    "    tmp = pd.DataFrame(tensor, index=race_ids, columns=np.arange(1, 19))\n",
    "    tmp = tmp.reset_index(names='race_id').melt(id_vars='race_id', var_name='uma_number')\n",
    "    tmp = tmp.set_index(['race_id', 'uma_number']).value.rename(name)\n",
    "    return tmp"
   ]
  },
  {
   "cell_type": "code",
   "execution_count": null,
   "id": "16",
   "metadata": {},
   "outputs": [],
   "source": [
    "df = pd.DataFrame(\n",
    "    {\n",
    "        'score_0': convert_to_series(F.sigmoid(scores[:, :, 0]), 'score_0'),\n",
    "        'score_1': convert_to_series(F.sigmoid(scores[:, :, 1]), 'score_1'),\n",
    "        'score_2': convert_to_series(F.sigmoid(scores[:, :, 2]), 'score_2'),\n",
    "        'target_0': convert_to_series(targets[:, :, 0], 'target_0'),\n",
    "        'target_1': convert_to_series(targets[:, :, 1], 'target_1'),\n",
    "        'target_2': convert_to_series(targets[:, :, 2], 'target_2'),\n",
    "        'mask': convert_to_series(masks, 'mask'),\n",
    "    }\n",
    ")\n",
    "df = df[df['mask']].sort_index()"
   ]
  },
  {
   "cell_type": "code",
   "execution_count": null,
   "id": "17",
   "metadata": {},
   "outputs": [],
   "source": [
    "df['score_ranking'] = df.groupby('race_id')['score_0'].rank(method='first', ascending=False)"
   ]
  },
  {
   "cell_type": "code",
   "execution_count": null,
   "id": "18",
   "metadata": {},
   "outputs": [],
   "source": [
    "df.head(30)"
   ]
  },
  {
   "cell_type": "code",
   "execution_count": null,
   "id": "19",
   "metadata": {},
   "outputs": [],
   "source": [
    "engine = create_database_engine('pckeiba')"
   ]
  },
  {
   "cell_type": "code",
   "execution_count": null,
   "id": "20",
   "metadata": {},
   "outputs": [],
   "source": [
    "with engine.connect() as conn:\n",
    "    conn.execute(\n",
    "        text(\"\"\"DELETE FROM apd_shisu_2 WHERE shisu_no IN (1, 2, 3)\"\"\")\n",
    "    )\n",
    "    conn.commit()"
   ]
  },
  {
   "cell_type": "code",
   "execution_count": null,
   "id": "21",
   "metadata": {},
   "outputs": [],
   "source": [
    "with engine.connect() as conn:\n",
    "    for (\n",
    "        race_id, uma_number\n",
    "    ), (\n",
    "        score_0, score_1, score_2, target_0, target_1, target_2, mask, score_ranking\n",
    "    ) in df.iterrows():\n",
    "        for i, score in zip([1, 2, 3], [score_0, score_1, score_2]):\n",
    "            conn.execute(\n",
    "                text(\"\"\"INSERT INTO apd_shisu_2 (\n",
    "                            shisu_no, kaisai_nen, kaisai_tsukihi, keibajo_code, race_bango, umaban, shisu, juni\n",
    "                        ) VALUES (\n",
    "                            :shisu_no, :kaisai_nen, :kaisai_tsukihi, :keibajo_code, :race_bango, :umaban, :shisu, :juni\n",
    "                        )\"\"\"),\n",
    "                {\"shisu_no\": i, \"kaisai_nen\": race_id[0:4], \"kaisai_tsukihi\": race_id[4:8], \"keibajo_code\": race_id[8:10],\n",
    "                 \"race_bango\": race_id[14:16], \"umaban\": uma_number, \"shisu\": score, \"juni\": score_ranking} \n",
    "            )\n",
    "    conn.commit()"
   ]
  },
  {
   "cell_type": "code",
   "execution_count": null,
   "id": "22",
   "metadata": {},
   "outputs": [],
   "source": []
  },
  {
   "cell_type": "code",
   "execution_count": null,
   "id": "23",
   "metadata": {},
   "outputs": [],
   "source": []
  },
  {
   "cell_type": "code",
   "execution_count": null,
   "id": "24",
   "metadata": {},
   "outputs": [],
   "source": []
  },
  {
   "cell_type": "code",
   "execution_count": null,
   "id": "25",
   "metadata": {},
   "outputs": [],
   "source": []
  },
  {
   "cell_type": "code",
   "execution_count": null,
   "id": "26",
   "metadata": {},
   "outputs": [],
   "source": []
  },
  {
   "cell_type": "code",
   "execution_count": null,
   "id": "27",
   "metadata": {},
   "outputs": [],
   "source": []
  },
  {
   "cell_type": "code",
   "execution_count": null,
   "id": "28",
   "metadata": {},
   "outputs": [],
   "source": []
  },
  {
   "cell_type": "code",
   "execution_count": null,
   "id": "29",
   "metadata": {},
   "outputs": [],
   "source": []
  },
  {
   "cell_type": "code",
   "execution_count": null,
   "id": "30",
   "metadata": {},
   "outputs": [],
   "source": []
  },
  {
   "cell_type": "code",
   "execution_count": null,
   "id": "31",
   "metadata": {},
   "outputs": [],
   "source": []
  }
 ],
 "metadata": {
  "kernelspec": {
   "display_name": "horgues3",
   "language": "python",
   "name": "horgues3"
  },
  "language_info": {
   "codemirror_mode": {
    "name": "ipython",
    "version": 3
   },
   "file_extension": ".py",
   "mimetype": "text/x-python",
   "name": "python",
   "nbconvert_exporter": "python",
   "pygments_lexer": "ipython3",
   "version": "3.11.13"
  }
 },
 "nbformat": 4,
 "nbformat_minor": 5
}
